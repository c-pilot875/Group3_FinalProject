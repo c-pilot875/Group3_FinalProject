{
 "cells": [
  {
   "cell_type": "code",
   "execution_count": 1,
   "id": "7150c24f",
   "metadata": {},
   "outputs": [],
   "source": [
    "# Import dependencies\n",
    "import pandas as pd\n",
    "from imblearn.ensemble import BalancedRandomForestClassifier\n",
    "from sklearn.preprocessing import StandardScaler\n",
    "from sklearn.model_selection import train_test_split\n",
    "from sklearn.metrics import balanced_accuracy_score, confusion_matrix\n",
    "from imblearn.metrics import classification_report_imbalanced"
   ]
  },
  {
   "cell_type": "code",
   "execution_count": null,
   "id": "bfa4735d",
   "metadata": {},
   "outputs": [],
   "source": [
    "# Load file into dataframe\n",
    "file_path = \"\"\n",
    "nfl_df = pd.read_csv(file_path)"
   ]
  },
  {
   "cell_type": "code",
   "execution_count": null,
   "id": "6dca2a1e",
   "metadata": {},
   "outputs": [],
   "source": [
    "# Drop columns that we won't use\n",
    "bad_columns = []\n",
    "nfl_df = nfl_df.drop(bad_columns, axis=1)"
   ]
  },
  {
   "cell_type": "code",
   "execution_count": null,
   "id": "ecf80bb3",
   "metadata": {},
   "outputs": [],
   "source": [
    "nfl_df['Position_Type'].value_counts()"
   ]
  },
  {
   "cell_type": "code",
   "execution_count": null,
   "id": "ddbf8d45",
   "metadata": {},
   "outputs": [],
   "source": [
    "def rf_model(df):\n",
    "    # Create dataframe for features\n",
    "    X = df.drop(\"Drafted\", axis=1)\n",
    "    \n",
    "    # Create target variable\n",
    "    y = df.Drafted.values\n",
    "    \n",
    "    # Seperate into training and testing sets\n",
    "    X_train,X_test,y_train,y_test = train_test_split(X,y,random_state=5)\n",
    "    \n",
    "    # Creating a StandardScaler instance.\n",
    "    scaler = StandardScaler()\n",
    "    # Fitting the Standard Scaler with the training data.\n",
    "    X_scaler = scaler.fit(X_train)\n",
    "    # Scaling the data.\n",
    "    X_train_scaled = X_scaler.transform(X_train)\n",
    "    X_test_scaled = X_scaler.transform(X_test)\n",
    "    \n",
    "    # Create and fit the model\n",
    "    rf_model = BalancedRandomForestClassifier(n_estimators = 128, random_state = 10)\n",
    "    rf_model.fit(X_train_scaled, y_train)\n",
    "    \n",
    "    # Use the model to predict\n",
    "    y_pred = rf_model.predict(X_test_scaled)\n",
    "    \n",
    "    # Calculated the balanced accuracy score\n",
    "    accuracy = balanced_accuracy_score(y_test, y_pred)\n",
    "    \n",
    "    # Display the confusion matrix\n",
    "    cm = confusion_matrix(y_test, y_pred)\n",
    "    \n",
    "    # Print the imbalanced classification report\n",
    "    class_report = classification_report_imbalanced(y_test, y_pred)\n",
    "    \n",
    "    # List the features sorted in descending order by feature importance\n",
    "    features = sorted(zip(model.feature_importances_, X.columns), reverse=True)\n",
    "    \n",
    "    #Put all useful results into a dictionary\n",
    "    results = {'Accuracy': accuracy, 'cm': cm, 'class_report': class_report, 'features': features}\n",
    "    \n",
    "    # Return that dictionary\n",
    "    return results"
   ]
  },
  {
   "cell_type": "code",
   "execution_count": null,
   "id": "21a0f96b",
   "metadata": {},
   "outputs": [],
   "source": [
    "# Create an empty list to hold results\n",
    "results = []\n",
    "\n",
    "# Go through each position type\n",
    "for position_type in nfl_df['Position_Type'].unique():\n",
    "    # Make a dataframe of players just in that position\n",
    "    df = nfl_df.loc[nfl_df['Position_type']==position_type]\n",
    "    # Make a random forest model for this position and append the results to the results list\n",
    "    results.append(rf_model(df))"
   ]
  }
 ],
 "metadata": {
  "kernelspec": {
   "display_name": "mlenv",
   "language": "python",
   "name": "mlenv"
  },
  "language_info": {
   "codemirror_mode": {
    "name": "ipython",
    "version": 3
   },
   "file_extension": ".py",
   "mimetype": "text/x-python",
   "name": "python",
   "nbconvert_exporter": "python",
   "pygments_lexer": "ipython3",
   "version": "3.7.13"
  }
 },
 "nbformat": 4,
 "nbformat_minor": 5
}
