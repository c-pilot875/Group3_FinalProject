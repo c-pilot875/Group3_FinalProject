{
 "cells": [
  {
   "cell_type": "code",
   "execution_count": 1,
   "id": "7150c24f",
   "metadata": {},
   "outputs": [],
   "source": [
    "# Import dependencies\n",
    "import pandas as pd\n",
    "from sklearn.ensemble import RandomForestClassifier\n",
    "from imblearn.ensemble import BalancedRandomForestClassifier\n",
    "from sklearn.preprocessing import StandardScaler\n",
    "from sklearn.model_selection import train_test_split\n",
    "from sklearn.metrics import accuracy_score, confusion_matrix\n",
    "from imblearn.metrics import classification_report_imbalanced"
   ]
  },
  {
   "cell_type": "code",
   "execution_count": 2,
   "id": "bfa4735d",
   "metadata": {},
   "outputs": [
    {
     "data": {
      "text/html": [
       "<div>\n",
       "<style scoped>\n",
       "    .dataframe tbody tr th:only-of-type {\n",
       "        vertical-align: middle;\n",
       "    }\n",
       "\n",
       "    .dataframe tbody tr th {\n",
       "        vertical-align: top;\n",
       "    }\n",
       "\n",
       "    .dataframe thead th {\n",
       "        text-align: right;\n",
       "    }\n",
       "</style>\n",
       "<table border=\"1\" class=\"dataframe\">\n",
       "  <thead>\n",
       "    <tr style=\"text-align: right;\">\n",
       "      <th></th>\n",
       "      <th>Year</th>\n",
       "      <th>Player</th>\n",
       "      <th>Age</th>\n",
       "      <th>School</th>\n",
       "      <th>Height</th>\n",
       "      <th>Weight</th>\n",
       "      <th>Sprint_40yd</th>\n",
       "      <th>Vertical_Jump</th>\n",
       "      <th>Bench_Press_Reps</th>\n",
       "      <th>Broad_Jump</th>\n",
       "      <th>Agility_3cone</th>\n",
       "      <th>Shuttle</th>\n",
       "      <th>Drafted..tm.rnd.yr.</th>\n",
       "      <th>BMI</th>\n",
       "      <th>Player_Type</th>\n",
       "      <th>Position_Type</th>\n",
       "      <th>Position</th>\n",
       "      <th>Drafted</th>\n",
       "    </tr>\n",
       "  </thead>\n",
       "  <tbody>\n",
       "    <tr>\n",
       "      <th>0</th>\n",
       "      <td>2009</td>\n",
       "      <td>Beanie Wells\\WellCh00</td>\n",
       "      <td>20.0</td>\n",
       "      <td>Ohio St.</td>\n",
       "      <td>1.8542</td>\n",
       "      <td>106.594207</td>\n",
       "      <td>4.38</td>\n",
       "      <td>85.09</td>\n",
       "      <td>25.0</td>\n",
       "      <td>325.12</td>\n",
       "      <td>NaN</td>\n",
       "      <td>NaN</td>\n",
       "      <td>Arizona Cardinals / 1st / 31st pick / 2009</td>\n",
       "      <td>31.004194</td>\n",
       "      <td>offense</td>\n",
       "      <td>backs_receivers</td>\n",
       "      <td>RB</td>\n",
       "      <td>Yes</td>\n",
       "    </tr>\n",
       "    <tr>\n",
       "      <th>1</th>\n",
       "      <td>2009</td>\n",
       "      <td>Will Davis\\DaviWi99</td>\n",
       "      <td>22.0</td>\n",
       "      <td>Illinois</td>\n",
       "      <td>1.8796</td>\n",
       "      <td>118.387609</td>\n",
       "      <td>4.84</td>\n",
       "      <td>83.82</td>\n",
       "      <td>27.0</td>\n",
       "      <td>292.10</td>\n",
       "      <td>7.38</td>\n",
       "      <td>4.45</td>\n",
       "      <td>Arizona Cardinals / 6th / 204th pick / 2009</td>\n",
       "      <td>33.510073</td>\n",
       "      <td>defense</td>\n",
       "      <td>defensive_lineman</td>\n",
       "      <td>DE</td>\n",
       "      <td>Yes</td>\n",
       "    </tr>\n",
       "    <tr>\n",
       "      <th>2</th>\n",
       "      <td>2009</td>\n",
       "      <td>Herman Johnson\\JohnHe23</td>\n",
       "      <td>24.0</td>\n",
       "      <td>LSU</td>\n",
       "      <td>2.0066</td>\n",
       "      <td>165.107623</td>\n",
       "      <td>5.50</td>\n",
       "      <td>NaN</td>\n",
       "      <td>21.0</td>\n",
       "      <td>NaN</td>\n",
       "      <td>NaN</td>\n",
       "      <td>NaN</td>\n",
       "      <td>Arizona Cardinals / 5th / 167th pick / 2009</td>\n",
       "      <td>41.005821</td>\n",
       "      <td>offense</td>\n",
       "      <td>offensive_lineman</td>\n",
       "      <td>OG</td>\n",
       "      <td>Yes</td>\n",
       "    </tr>\n",
       "    <tr>\n",
       "      <th>3</th>\n",
       "      <td>2009</td>\n",
       "      <td>Rashad Johnson\\JohnRa98</td>\n",
       "      <td>23.0</td>\n",
       "      <td>Alabama</td>\n",
       "      <td>1.8034</td>\n",
       "      <td>92.079251</td>\n",
       "      <td>4.49</td>\n",
       "      <td>93.98</td>\n",
       "      <td>15.0</td>\n",
       "      <td>304.80</td>\n",
       "      <td>7.09</td>\n",
       "      <td>4.23</td>\n",
       "      <td>Arizona Cardinals / 3rd / 95th pick / 2009</td>\n",
       "      <td>28.312463</td>\n",
       "      <td>defense</td>\n",
       "      <td>defensive_back</td>\n",
       "      <td>FS</td>\n",
       "      <td>Yes</td>\n",
       "    </tr>\n",
       "    <tr>\n",
       "      <th>4</th>\n",
       "      <td>2009</td>\n",
       "      <td>Cody Brown\\BrowCo96</td>\n",
       "      <td>22.0</td>\n",
       "      <td>Connecticut</td>\n",
       "      <td>1.8796</td>\n",
       "      <td>110.676538</td>\n",
       "      <td>4.76</td>\n",
       "      <td>92.71</td>\n",
       "      <td>26.0</td>\n",
       "      <td>304.80</td>\n",
       "      <td>7.10</td>\n",
       "      <td>4.40</td>\n",
       "      <td>Arizona Cardinals / 2nd / 63rd pick / 2009</td>\n",
       "      <td>31.327425</td>\n",
       "      <td>defense</td>\n",
       "      <td>line_backer</td>\n",
       "      <td>OLB</td>\n",
       "      <td>Yes</td>\n",
       "    </tr>\n",
       "  </tbody>\n",
       "</table>\n",
       "</div>"
      ],
      "text/plain": [
       "   Year                   Player   Age       School  Height      Weight  \\\n",
       "0  2009    Beanie Wells\\WellCh00  20.0     Ohio St.  1.8542  106.594207   \n",
       "1  2009      Will Davis\\DaviWi99  22.0     Illinois  1.8796  118.387609   \n",
       "2  2009  Herman Johnson\\JohnHe23  24.0          LSU  2.0066  165.107623   \n",
       "3  2009  Rashad Johnson\\JohnRa98  23.0      Alabama  1.8034   92.079251   \n",
       "4  2009      Cody Brown\\BrowCo96  22.0  Connecticut  1.8796  110.676538   \n",
       "\n",
       "   Sprint_40yd  Vertical_Jump  Bench_Press_Reps  Broad_Jump  Agility_3cone  \\\n",
       "0         4.38          85.09              25.0      325.12            NaN   \n",
       "1         4.84          83.82              27.0      292.10           7.38   \n",
       "2         5.50            NaN              21.0         NaN            NaN   \n",
       "3         4.49          93.98              15.0      304.80           7.09   \n",
       "4         4.76          92.71              26.0      304.80           7.10   \n",
       "\n",
       "   Shuttle                          Drafted..tm.rnd.yr.        BMI  \\\n",
       "0      NaN   Arizona Cardinals / 1st / 31st pick / 2009  31.004194   \n",
       "1     4.45  Arizona Cardinals / 6th / 204th pick / 2009  33.510073   \n",
       "2      NaN  Arizona Cardinals / 5th / 167th pick / 2009  41.005821   \n",
       "3     4.23   Arizona Cardinals / 3rd / 95th pick / 2009  28.312463   \n",
       "4     4.40   Arizona Cardinals / 2nd / 63rd pick / 2009  31.327425   \n",
       "\n",
       "  Player_Type      Position_Type Position Drafted  \n",
       "0     offense    backs_receivers       RB     Yes  \n",
       "1     defense  defensive_lineman       DE     Yes  \n",
       "2     offense  offensive_lineman       OG     Yes  \n",
       "3     defense     defensive_back       FS     Yes  \n",
       "4     defense        line_backer      OLB     Yes  "
      ]
     },
     "execution_count": 2,
     "metadata": {},
     "output_type": "execute_result"
    }
   ],
   "source": [
    "# Load file into dataframe\n",
    "file_path = \"./NFL.csv\"\n",
    "nfl_df = pd.read_csv(file_path)\n",
    "nfl_df.head()"
   ]
  },
  {
   "cell_type": "code",
   "execution_count": 3,
   "id": "6dca2a1e",
   "metadata": {},
   "outputs": [
    {
     "data": {
      "text/html": [
       "<div>\n",
       "<style scoped>\n",
       "    .dataframe tbody tr th:only-of-type {\n",
       "        vertical-align: middle;\n",
       "    }\n",
       "\n",
       "    .dataframe tbody tr th {\n",
       "        vertical-align: top;\n",
       "    }\n",
       "\n",
       "    .dataframe thead th {\n",
       "        text-align: right;\n",
       "    }\n",
       "</style>\n",
       "<table border=\"1\" class=\"dataframe\">\n",
       "  <thead>\n",
       "    <tr style=\"text-align: right;\">\n",
       "      <th></th>\n",
       "      <th>Height</th>\n",
       "      <th>Weight</th>\n",
       "      <th>Sprint_40yd</th>\n",
       "      <th>Vertical_Jump</th>\n",
       "      <th>Bench_Press_Reps</th>\n",
       "      <th>Broad_Jump</th>\n",
       "      <th>Agility_3cone</th>\n",
       "      <th>Shuttle</th>\n",
       "      <th>BMI</th>\n",
       "      <th>Position_Type</th>\n",
       "      <th>Drafted</th>\n",
       "    </tr>\n",
       "  </thead>\n",
       "  <tbody>\n",
       "    <tr>\n",
       "      <th>0</th>\n",
       "      <td>1.8542</td>\n",
       "      <td>106.594207</td>\n",
       "      <td>4.38</td>\n",
       "      <td>85.09</td>\n",
       "      <td>25.0</td>\n",
       "      <td>325.12</td>\n",
       "      <td>NaN</td>\n",
       "      <td>NaN</td>\n",
       "      <td>31.004194</td>\n",
       "      <td>backs_receivers</td>\n",
       "      <td>Yes</td>\n",
       "    </tr>\n",
       "    <tr>\n",
       "      <th>1</th>\n",
       "      <td>1.8796</td>\n",
       "      <td>118.387609</td>\n",
       "      <td>4.84</td>\n",
       "      <td>83.82</td>\n",
       "      <td>27.0</td>\n",
       "      <td>292.10</td>\n",
       "      <td>7.38</td>\n",
       "      <td>4.45</td>\n",
       "      <td>33.510073</td>\n",
       "      <td>defensive_lineman</td>\n",
       "      <td>Yes</td>\n",
       "    </tr>\n",
       "    <tr>\n",
       "      <th>2</th>\n",
       "      <td>2.0066</td>\n",
       "      <td>165.107623</td>\n",
       "      <td>5.50</td>\n",
       "      <td>NaN</td>\n",
       "      <td>21.0</td>\n",
       "      <td>NaN</td>\n",
       "      <td>NaN</td>\n",
       "      <td>NaN</td>\n",
       "      <td>41.005821</td>\n",
       "      <td>offensive_lineman</td>\n",
       "      <td>Yes</td>\n",
       "    </tr>\n",
       "    <tr>\n",
       "      <th>3</th>\n",
       "      <td>1.8034</td>\n",
       "      <td>92.079251</td>\n",
       "      <td>4.49</td>\n",
       "      <td>93.98</td>\n",
       "      <td>15.0</td>\n",
       "      <td>304.80</td>\n",
       "      <td>7.09</td>\n",
       "      <td>4.23</td>\n",
       "      <td>28.312463</td>\n",
       "      <td>defensive_back</td>\n",
       "      <td>Yes</td>\n",
       "    </tr>\n",
       "    <tr>\n",
       "      <th>4</th>\n",
       "      <td>1.8796</td>\n",
       "      <td>110.676538</td>\n",
       "      <td>4.76</td>\n",
       "      <td>92.71</td>\n",
       "      <td>26.0</td>\n",
       "      <td>304.80</td>\n",
       "      <td>7.10</td>\n",
       "      <td>4.40</td>\n",
       "      <td>31.327425</td>\n",
       "      <td>line_backer</td>\n",
       "      <td>Yes</td>\n",
       "    </tr>\n",
       "  </tbody>\n",
       "</table>\n",
       "</div>"
      ],
      "text/plain": [
       "   Height      Weight  Sprint_40yd  Vertical_Jump  Bench_Press_Reps  \\\n",
       "0  1.8542  106.594207         4.38          85.09              25.0   \n",
       "1  1.8796  118.387609         4.84          83.82              27.0   \n",
       "2  2.0066  165.107623         5.50            NaN              21.0   \n",
       "3  1.8034   92.079251         4.49          93.98              15.0   \n",
       "4  1.8796  110.676538         4.76          92.71              26.0   \n",
       "\n",
       "   Broad_Jump  Agility_3cone  Shuttle        BMI      Position_Type Drafted  \n",
       "0      325.12            NaN      NaN  31.004194    backs_receivers     Yes  \n",
       "1      292.10           7.38     4.45  33.510073  defensive_lineman     Yes  \n",
       "2         NaN            NaN      NaN  41.005821  offensive_lineman     Yes  \n",
       "3      304.80           7.09     4.23  28.312463     defensive_back     Yes  \n",
       "4      304.80           7.10     4.40  31.327425        line_backer     Yes  "
      ]
     },
     "execution_count": 3,
     "metadata": {},
     "output_type": "execute_result"
    }
   ],
   "source": [
    "# Drop columns that we won't use\n",
    "bad_columns = ['Year', 'Player', 'Age', 'School', 'Drafted..tm.rnd.yr.', 'Player_Type', 'Position']\n",
    "nfl_df = nfl_df.drop(bad_columns, axis=1)\n",
    "nfl_df.head()"
   ]
  },
  {
   "cell_type": "code",
   "execution_count": 4,
   "id": "bf08cc79",
   "metadata": {},
   "outputs": [
    {
     "name": "stdout",
     "output_type": "stream",
     "text": [
      "<class 'pandas.core.frame.DataFrame'>\n",
      "RangeIndex: 3477 entries, 0 to 3476\n",
      "Data columns (total 11 columns):\n",
      " #   Column            Non-Null Count  Dtype  \n",
      "---  ------            --------------  -----  \n",
      " 0   Height            3477 non-null   float64\n",
      " 1   Weight            3477 non-null   float64\n",
      " 2   Sprint_40yd       3303 non-null   float64\n",
      " 3   Vertical_Jump     2780 non-null   float64\n",
      " 4   Bench_Press_Reps  2572 non-null   float64\n",
      " 5   Broad_Jump        2749 non-null   float64\n",
      " 6   Agility_3cone     2260 non-null   float64\n",
      " 7   Shuttle           2337 non-null   float64\n",
      " 8   BMI               3477 non-null   float64\n",
      " 9   Position_Type     3477 non-null   object \n",
      " 10  Drafted           3477 non-null   object \n",
      "dtypes: float64(9), object(2)\n",
      "memory usage: 298.9+ KB\n"
     ]
    }
   ],
   "source": [
    "# Look at number of values for each column\n",
    "nfl_df.info()"
   ]
  },
  {
   "cell_type": "code",
   "execution_count": 5,
   "id": "0eb7599c",
   "metadata": {},
   "outputs": [
    {
     "name": "stdout",
     "output_type": "stream",
     "text": [
      "<class 'pandas.core.frame.DataFrame'>\n",
      "Int64Index: 1731 entries, 1 to 3475\n",
      "Data columns (total 11 columns):\n",
      " #   Column            Non-Null Count  Dtype  \n",
      "---  ------            --------------  -----  \n",
      " 0   Height            1731 non-null   float64\n",
      " 1   Weight            1731 non-null   float64\n",
      " 2   Sprint_40yd       1731 non-null   float64\n",
      " 3   Vertical_Jump     1731 non-null   float64\n",
      " 4   Bench_Press_Reps  1731 non-null   float64\n",
      " 5   Broad_Jump        1731 non-null   float64\n",
      " 6   Agility_3cone     1731 non-null   float64\n",
      " 7   Shuttle           1731 non-null   float64\n",
      " 8   BMI               1731 non-null   float64\n",
      " 9   Position_Type     1731 non-null   object \n",
      " 10  Drafted           1731 non-null   object \n",
      "dtypes: float64(9), object(2)\n",
      "memory usage: 162.3+ KB\n"
     ]
    }
   ],
   "source": [
    "# Drop all other null values and see that we have 1731 data points remaining\n",
    "nfl_df_dropped = nfl_df.dropna()\n",
    "nfl_df_dropped.info()"
   ]
  },
  {
   "cell_type": "code",
   "execution_count": 6,
   "id": "0045d9ae",
   "metadata": {},
   "outputs": [
    {
     "data": {
      "text/html": [
       "<div>\n",
       "<style scoped>\n",
       "    .dataframe tbody tr th:only-of-type {\n",
       "        vertical-align: middle;\n",
       "    }\n",
       "\n",
       "    .dataframe tbody tr th {\n",
       "        vertical-align: top;\n",
       "    }\n",
       "\n",
       "    .dataframe thead th {\n",
       "        text-align: right;\n",
       "    }\n",
       "</style>\n",
       "<table border=\"1\" class=\"dataframe\">\n",
       "  <thead>\n",
       "    <tr style=\"text-align: right;\">\n",
       "      <th></th>\n",
       "      <th>Height</th>\n",
       "      <th>Weight</th>\n",
       "      <th>Sprint_40yd</th>\n",
       "      <th>Vertical_Jump</th>\n",
       "      <th>Bench_Press_Reps</th>\n",
       "      <th>Broad_Jump</th>\n",
       "      <th>Agility_3cone</th>\n",
       "      <th>Shuttle</th>\n",
       "      <th>BMI</th>\n",
       "      <th>Position_Type</th>\n",
       "      <th>Drafted</th>\n",
       "    </tr>\n",
       "  </thead>\n",
       "  <tbody>\n",
       "    <tr>\n",
       "      <th>0</th>\n",
       "      <td>1.8542</td>\n",
       "      <td>106.594207</td>\n",
       "      <td>4.38</td>\n",
       "      <td>85.090000</td>\n",
       "      <td>25.0</td>\n",
       "      <td>325.120000</td>\n",
       "      <td>7.237416</td>\n",
       "      <td>4.403843</td>\n",
       "      <td>31.004194</td>\n",
       "      <td>backs_receivers</td>\n",
       "      <td>Yes</td>\n",
       "    </tr>\n",
       "    <tr>\n",
       "      <th>1</th>\n",
       "      <td>1.8796</td>\n",
       "      <td>118.387609</td>\n",
       "      <td>4.84</td>\n",
       "      <td>83.820000</td>\n",
       "      <td>27.0</td>\n",
       "      <td>292.100000</td>\n",
       "      <td>7.380000</td>\n",
       "      <td>4.450000</td>\n",
       "      <td>33.510073</td>\n",
       "      <td>defensive_lineman</td>\n",
       "      <td>Yes</td>\n",
       "    </tr>\n",
       "    <tr>\n",
       "      <th>2</th>\n",
       "      <td>2.0066</td>\n",
       "      <td>165.107623</td>\n",
       "      <td>5.50</td>\n",
       "      <td>83.392403</td>\n",
       "      <td>21.0</td>\n",
       "      <td>291.629698</td>\n",
       "      <td>7.237416</td>\n",
       "      <td>4.403843</td>\n",
       "      <td>41.005821</td>\n",
       "      <td>offensive_lineman</td>\n",
       "      <td>Yes</td>\n",
       "    </tr>\n",
       "    <tr>\n",
       "      <th>3</th>\n",
       "      <td>1.8034</td>\n",
       "      <td>92.079251</td>\n",
       "      <td>4.49</td>\n",
       "      <td>93.980000</td>\n",
       "      <td>15.0</td>\n",
       "      <td>304.800000</td>\n",
       "      <td>7.090000</td>\n",
       "      <td>4.230000</td>\n",
       "      <td>28.312463</td>\n",
       "      <td>defensive_back</td>\n",
       "      <td>Yes</td>\n",
       "    </tr>\n",
       "    <tr>\n",
       "      <th>4</th>\n",
       "      <td>1.8796</td>\n",
       "      <td>110.676538</td>\n",
       "      <td>4.76</td>\n",
       "      <td>92.710000</td>\n",
       "      <td>26.0</td>\n",
       "      <td>304.800000</td>\n",
       "      <td>7.100000</td>\n",
       "      <td>4.400000</td>\n",
       "      <td>31.327425</td>\n",
       "      <td>line_backer</td>\n",
       "      <td>Yes</td>\n",
       "    </tr>\n",
       "  </tbody>\n",
       "</table>\n",
       "</div>"
      ],
      "text/plain": [
       "   Height      Weight  Sprint_40yd  Vertical_Jump  Bench_Press_Reps  \\\n",
       "0  1.8542  106.594207         4.38      85.090000              25.0   \n",
       "1  1.8796  118.387609         4.84      83.820000              27.0   \n",
       "2  2.0066  165.107623         5.50      83.392403              21.0   \n",
       "3  1.8034   92.079251         4.49      93.980000              15.0   \n",
       "4  1.8796  110.676538         4.76      92.710000              26.0   \n",
       "\n",
       "   Broad_Jump  Agility_3cone   Shuttle        BMI      Position_Type Drafted  \n",
       "0  325.120000       7.237416  4.403843  31.004194    backs_receivers     Yes  \n",
       "1  292.100000       7.380000  4.450000  33.510073  defensive_lineman     Yes  \n",
       "2  291.629698       7.237416  4.403843  41.005821  offensive_lineman     Yes  \n",
       "3  304.800000       7.090000  4.230000  28.312463     defensive_back     Yes  \n",
       "4  304.800000       7.100000  4.400000  31.327425        line_backer     Yes  "
      ]
     },
     "execution_count": 6,
     "metadata": {},
     "output_type": "execute_result"
    }
   ],
   "source": [
    "# Create df with mean values in place of null values\n",
    "nfl_df_meaned = nfl_df.copy()\n",
    "\n",
    "#Find the mean value for each column\n",
    "mean_sprint = nfl_df['Sprint_40yd'].mean()\n",
    "mean_vert = nfl_df['Vertical_Jump'].mean()\n",
    "mean_bench = nfl_df['Bench_Press_Reps'].mean()\n",
    "mean_broad = nfl_df['Broad_Jump'].mean()\n",
    "mean_3cone = nfl_df['Agility_3cone'].mean()\n",
    "mean_shuttle = nfl_df['Shuttle'].mean()\n",
    "\n",
    "# Replace all null values with that mean value\n",
    "nfl_df_meaned['Sprint_40yd'].fillna(value=mean_sprint, inplace=True)\n",
    "nfl_df_meaned['Vertical_Jump'].fillna(value=mean_vert, inplace=True)\n",
    "nfl_df_meaned['Bench_Press_Reps'].fillna(value=mean_bench, inplace=True)\n",
    "nfl_df_meaned['Broad_Jump'].fillna(value=mean_broad, inplace=True)\n",
    "nfl_df_meaned['Agility_3cone'].fillna(value=mean_3cone, inplace=True)\n",
    "nfl_df_meaned['Shuttle'].fillna(value=mean_shuttle, inplace=True)\n",
    "\n",
    "#Display the meaned dataframe\n",
    "nfl_df_meaned.head()"
   ]
  },
  {
   "cell_type": "code",
   "execution_count": 7,
   "id": "f6edb271",
   "metadata": {},
   "outputs": [
    {
     "name": "stderr",
     "output_type": "stream",
     "text": [
      "C:\\Users\\bhill\\anaconda3\\envs\\mlenv\\lib\\site-packages\\pandas\\core\\generic.py:6392: SettingWithCopyWarning: \n",
      "A value is trying to be set on a copy of a slice from a DataFrame\n",
      "\n",
      "See the caveats in the documentation: https://pandas.pydata.org/pandas-docs/stable/user_guide/indexing.html#returning-a-view-versus-a-copy\n",
      "  return self._update_inplace(result)\n"
     ]
    },
    {
     "data": {
      "text/html": [
       "<div>\n",
       "<style scoped>\n",
       "    .dataframe tbody tr th:only-of-type {\n",
       "        vertical-align: middle;\n",
       "    }\n",
       "\n",
       "    .dataframe tbody tr th {\n",
       "        vertical-align: top;\n",
       "    }\n",
       "\n",
       "    .dataframe thead th {\n",
       "        text-align: right;\n",
       "    }\n",
       "</style>\n",
       "<table border=\"1\" class=\"dataframe\">\n",
       "  <thead>\n",
       "    <tr style=\"text-align: right;\">\n",
       "      <th></th>\n",
       "      <th>Height</th>\n",
       "      <th>Weight</th>\n",
       "      <th>Sprint_40yd</th>\n",
       "      <th>Vertical_Jump</th>\n",
       "      <th>Bench_Press_Reps</th>\n",
       "      <th>Broad_Jump</th>\n",
       "      <th>Agility_3cone</th>\n",
       "      <th>Shuttle</th>\n",
       "      <th>BMI</th>\n",
       "      <th>Position_Type</th>\n",
       "      <th>Drafted</th>\n",
       "    </tr>\n",
       "  </thead>\n",
       "  <tbody>\n",
       "    <tr>\n",
       "      <th>0</th>\n",
       "      <td>1.8542</td>\n",
       "      <td>106.594207</td>\n",
       "      <td>4.38</td>\n",
       "      <td>85.090000</td>\n",
       "      <td>25.0</td>\n",
       "      <td>325.120000</td>\n",
       "      <td>7.033385</td>\n",
       "      <td>4.290321</td>\n",
       "      <td>31.004194</td>\n",
       "      <td>backs_receivers</td>\n",
       "      <td>Yes</td>\n",
       "    </tr>\n",
       "    <tr>\n",
       "      <th>1</th>\n",
       "      <td>1.8796</td>\n",
       "      <td>118.387609</td>\n",
       "      <td>4.84</td>\n",
       "      <td>83.820000</td>\n",
       "      <td>27.0</td>\n",
       "      <td>292.100000</td>\n",
       "      <td>7.380000</td>\n",
       "      <td>4.450000</td>\n",
       "      <td>33.510073</td>\n",
       "      <td>defensive_lineman</td>\n",
       "      <td>Yes</td>\n",
       "    </tr>\n",
       "    <tr>\n",
       "      <th>2</th>\n",
       "      <td>2.0066</td>\n",
       "      <td>165.107623</td>\n",
       "      <td>5.50</td>\n",
       "      <td>69.944605</td>\n",
       "      <td>21.0</td>\n",
       "      <td>258.528591</td>\n",
       "      <td>7.820439</td>\n",
       "      <td>4.770353</td>\n",
       "      <td>41.005821</td>\n",
       "      <td>offensive_lineman</td>\n",
       "      <td>Yes</td>\n",
       "    </tr>\n",
       "    <tr>\n",
       "      <th>3</th>\n",
       "      <td>1.8034</td>\n",
       "      <td>92.079251</td>\n",
       "      <td>4.49</td>\n",
       "      <td>93.980000</td>\n",
       "      <td>15.0</td>\n",
       "      <td>304.800000</td>\n",
       "      <td>7.090000</td>\n",
       "      <td>4.230000</td>\n",
       "      <td>28.312463</td>\n",
       "      <td>defensive_back</td>\n",
       "      <td>Yes</td>\n",
       "    </tr>\n",
       "    <tr>\n",
       "      <th>4</th>\n",
       "      <td>1.8796</td>\n",
       "      <td>110.676538</td>\n",
       "      <td>4.76</td>\n",
       "      <td>92.710000</td>\n",
       "      <td>26.0</td>\n",
       "      <td>304.800000</td>\n",
       "      <td>7.100000</td>\n",
       "      <td>4.400000</td>\n",
       "      <td>31.327425</td>\n",
       "      <td>line_backer</td>\n",
       "      <td>Yes</td>\n",
       "    </tr>\n",
       "  </tbody>\n",
       "</table>\n",
       "</div>"
      ],
      "text/plain": [
       "   Height      Weight  Sprint_40yd  Vertical_Jump  Bench_Press_Reps  \\\n",
       "0  1.8542  106.594207         4.38      85.090000              25.0   \n",
       "1  1.8796  118.387609         4.84      83.820000              27.0   \n",
       "2  2.0066  165.107623         5.50      69.944605              21.0   \n",
       "3  1.8034   92.079251         4.49      93.980000              15.0   \n",
       "4  1.8796  110.676538         4.76      92.710000              26.0   \n",
       "\n",
       "   Broad_Jump  Agility_3cone   Shuttle        BMI      Position_Type Drafted  \n",
       "0  325.120000       7.033385  4.290321  31.004194    backs_receivers     Yes  \n",
       "1  292.100000       7.380000  4.450000  33.510073  defensive_lineman     Yes  \n",
       "2  258.528591       7.820439  4.770353  41.005821  offensive_lineman     Yes  \n",
       "3  304.800000       7.090000  4.230000  28.312463     defensive_back     Yes  \n",
       "4  304.800000       7.100000  4.400000  31.327425        line_backer     Yes  "
      ]
     },
     "execution_count": 7,
     "metadata": {},
     "output_type": "execute_result"
    }
   ],
   "source": [
    "# Create df with mean values in place of null values\n",
    "nfl_df_meaned2 = nfl_df.copy()\n",
    "\n",
    "for position_type in nfl_df['Position_Type']:\n",
    "    \n",
    "    df = nfl_df.loc[nfl_df['Position_Type'] ==position_type]\n",
    "    \n",
    "    #Find the mean value for each column for each position type\n",
    "    mean_sprint = df['Sprint_40yd'].mean()\n",
    "    mean_vert = df['Vertical_Jump'].mean()\n",
    "    mean_bench = df['Bench_Press_Reps'].mean()\n",
    "    mean_broad = df['Broad_Jump'].mean()\n",
    "    mean_3cone = df['Agility_3cone'].mean()\n",
    "    mean_shuttle = df['Shuttle'].mean()\n",
    "\n",
    "    # Replace all null values with that mean value\n",
    "    df['Sprint_40yd'].fillna(value=mean_sprint, inplace=True)\n",
    "    df['Vertical_Jump'].fillna(value=mean_vert, inplace=True)\n",
    "    df['Bench_Press_Reps'].fillna(value=mean_bench, inplace=True)\n",
    "    df['Broad_Jump'].fillna(value=mean_broad, inplace=True)\n",
    "    df['Agility_3cone'].fillna(value=mean_3cone, inplace=True)\n",
    "    df['Shuttle'].fillna(value=mean_shuttle, inplace=True)\n",
    "\n",
    "    nfl_df_meaned2.loc[nfl_df_meaned['Position_Type'] ==position_type] = df\n",
    "#Display the meaned dataframe\n",
    "nfl_df_meaned2.head()"
   ]
  },
  {
   "cell_type": "code",
   "execution_count": 8,
   "id": "7b9c2435",
   "metadata": {},
   "outputs": [],
   "source": [
    "# WE WILL RUN THE MODEL FOR BOTH DROPPED NULL VALUES AND MEANED NULL VALUES\n",
    "# Dropped first:\n",
    "# Create dataframe for features\n",
    "X_drop = nfl_df_dropped.drop([\"Drafted\", \"Position_Type\"], axis=1)"
   ]
  },
  {
   "cell_type": "code",
   "execution_count": 9,
   "id": "cbae8738",
   "metadata": {},
   "outputs": [],
   "source": [
    "# Create target variable\n",
    "y_drop = nfl_df_dropped.Drafted.values"
   ]
  },
  {
   "cell_type": "code",
   "execution_count": 10,
   "id": "31de248f",
   "metadata": {},
   "outputs": [],
   "source": [
    "# Seperate into training and testing sets\n",
    "X_train,X_test,y_train,y_test = train_test_split(X_drop,y_drop,random_state=5)"
   ]
  },
  {
   "cell_type": "code",
   "execution_count": 11,
   "id": "019af97b",
   "metadata": {},
   "outputs": [],
   "source": [
    "# Creating a StandardScaler instance.\n",
    "scaler = StandardScaler()\n",
    "# Fitting the Standard Scaler with the training data.\n",
    "X_scaler = scaler.fit(X_train)\n",
    "\n",
    "# Scaling the data.\n",
    "X_train_scaled = X_scaler.transform(X_train)\n",
    "X_test_scaled = X_scaler.transform(X_test)"
   ]
  },
  {
   "cell_type": "code",
   "execution_count": 12,
   "id": "ddf091e5",
   "metadata": {},
   "outputs": [
    {
     "data": {
      "text/plain": [
       "BalancedRandomForestClassifier(n_estimators=128, random_state=10)"
      ]
     },
     "execution_count": 12,
     "metadata": {},
     "output_type": "execute_result"
    }
   ],
   "source": [
    "# Create and fit the model\n",
    "rf_dropped = BalancedRandomForestClassifier(n_estimators = 128, random_state = 10)\n",
    "rf_dropped.fit(X_train_scaled, y_train)"
   ]
  },
  {
   "cell_type": "code",
   "execution_count": 13,
   "id": "ce336005",
   "metadata": {},
   "outputs": [],
   "source": [
    "# Use the model to predict\n",
    "y_pred = rf_dropped.predict(X_test_scaled)"
   ]
  },
  {
   "cell_type": "code",
   "execution_count": 14,
   "id": "5eadb8a6",
   "metadata": {},
   "outputs": [
    {
     "data": {
      "text/plain": [
       "0.6628175519630485"
      ]
     },
     "execution_count": 14,
     "metadata": {},
     "output_type": "execute_result"
    }
   ],
   "source": [
    "# Calculated the balanced accuracy score\n",
    "accuracy_score(y_test, y_pred)"
   ]
  },
  {
   "cell_type": "code",
   "execution_count": 15,
   "id": "c69f96c8",
   "metadata": {},
   "outputs": [
    {
     "name": "stdout",
     "output_type": "stream",
     "text": [
      "[[100  52]\n",
      " [ 94 187]]\n"
     ]
    }
   ],
   "source": [
    "# Display the confusion matrix\n",
    "cm = confusion_matrix(y_test, y_pred)\n",
    "print(cm)"
   ]
  },
  {
   "cell_type": "code",
   "execution_count": 16,
   "id": "c71f6a0f",
   "metadata": {},
   "outputs": [
    {
     "name": "stdout",
     "output_type": "stream",
     "text": [
      "                   pre       rec       spe        f1       geo       iba       sup\n",
      "\n",
      "         No       0.52      0.66      0.67      0.58      0.66      0.44       152\n",
      "        Yes       0.78      0.67      0.66      0.72      0.66      0.44       281\n",
      "\n",
      "avg / total       0.69      0.66      0.66      0.67      0.66      0.44       433\n",
      "\n"
     ]
    }
   ],
   "source": [
    "# Print the imbalanced classification report\n",
    "print(classification_report_imbalanced(y_test, y_pred))"
   ]
  },
  {
   "cell_type": "code",
   "execution_count": 18,
   "id": "3d7b900c",
   "metadata": {},
   "outputs": [
    {
     "data": {
      "text/plain": [
       "[(0.148165817655903, 'Sprint_40yd'),\n",
       " (0.12171272660241703, 'BMI'),\n",
       " (0.12142392843878268, 'Agility_3cone'),\n",
       " (0.12067955840030756, 'Weight'),\n",
       " (0.1144735895270801, 'Shuttle'),\n",
       " (0.10902847082991358, 'Bench_Press_Reps'),\n",
       " (0.0991115832295414, 'Broad_Jump'),\n",
       " (0.09855485963691278, 'Vertical_Jump'),\n",
       " (0.06684946567914182, 'Height')]"
      ]
     },
     "execution_count": 18,
     "metadata": {},
     "output_type": "execute_result"
    }
   ],
   "source": [
    "# List the features sorted in descending order by feature importance\n",
    "sorted(zip(rf_dropped.feature_importances_, X_drop.columns), reverse=True)"
   ]
  },
  {
   "cell_type": "code",
   "execution_count": 19,
   "id": "9506bbc1",
   "metadata": {},
   "outputs": [],
   "source": [
    "# Now meaned\n",
    "# Create dataframe for features\n",
    "X = nfl_df_meaned.drop([\"Drafted\", \"Position_Type\"], axis=1)"
   ]
  },
  {
   "cell_type": "code",
   "execution_count": 20,
   "id": "5bb05ba5",
   "metadata": {},
   "outputs": [],
   "source": [
    "# Create target variable\n",
    "y = nfl_df_meaned.Drafted.values"
   ]
  },
  {
   "cell_type": "code",
   "execution_count": 21,
   "id": "ba599463",
   "metadata": {},
   "outputs": [],
   "source": [
    "# Seperate into training and testing sets\n",
    "X_train,X_test,y_train,y_test = train_test_split(X,y,random_state=5)"
   ]
  },
  {
   "cell_type": "code",
   "execution_count": 22,
   "id": "966be742",
   "metadata": {},
   "outputs": [],
   "source": [
    "# Creating a StandardScaler instance.\n",
    "scaler = StandardScaler()\n",
    "# Fitting the Standard Scaler with the training data.\n",
    "X_scaler = scaler.fit(X_train)\n",
    "\n",
    "# Scaling the data.\n",
    "X_train_scaled = X_scaler.transform(X_train)\n",
    "X_test_scaled = X_scaler.transform(X_test)"
   ]
  },
  {
   "cell_type": "code",
   "execution_count": 23,
   "id": "09f66360",
   "metadata": {},
   "outputs": [
    {
     "data": {
      "text/plain": [
       "BalancedRandomForestClassifier(n_estimators=128, random_state=10)"
      ]
     },
     "execution_count": 23,
     "metadata": {},
     "output_type": "execute_result"
    }
   ],
   "source": [
    "# Create and fit the model\n",
    "rf_meaned = BalancedRandomForestClassifier(n_estimators = 128, random_state = 10)\n",
    "rf_meaned.fit(X_train_scaled, y_train)"
   ]
  },
  {
   "cell_type": "code",
   "execution_count": 24,
   "id": "0de3636c",
   "metadata": {},
   "outputs": [],
   "source": [
    "# Use the model to predict\n",
    "y_pred = rf_meaned.predict(X_test_scaled)"
   ]
  },
  {
   "cell_type": "code",
   "execution_count": 25,
   "id": "acaafd73",
   "metadata": {},
   "outputs": [
    {
     "data": {
      "text/plain": [
       "0.6298850574712643"
      ]
     },
     "execution_count": 25,
     "metadata": {},
     "output_type": "execute_result"
    }
   ],
   "source": [
    "# Calculated the balanced accuracy score\n",
    "accuracy_score(y_test, y_pred)"
   ]
  },
  {
   "cell_type": "code",
   "execution_count": 26,
   "id": "888ce4b7",
   "metadata": {},
   "outputs": [
    {
     "name": "stdout",
     "output_type": "stream",
     "text": [
      "[[199 130]\n",
      " [192 349]]\n"
     ]
    }
   ],
   "source": [
    "# Display the confusion matrix\n",
    "cm = confusion_matrix(y_test, y_pred)\n",
    "print(cm)"
   ]
  },
  {
   "cell_type": "code",
   "execution_count": 27,
   "id": "2379ddb3",
   "metadata": {},
   "outputs": [
    {
     "name": "stdout",
     "output_type": "stream",
     "text": [
      "                   pre       rec       spe        f1       geo       iba       sup\n",
      "\n",
      "         No       0.51      0.60      0.65      0.55      0.62      0.39       329\n",
      "        Yes       0.73      0.65      0.60      0.68      0.62      0.39       541\n",
      "\n",
      "avg / total       0.65      0.63      0.62      0.63      0.62      0.39       870\n",
      "\n"
     ]
    }
   ],
   "source": [
    "# Print the imbalanced classification report\n",
    "print(classification_report_imbalanced(y_test, y_pred))"
   ]
  },
  {
   "cell_type": "code",
   "execution_count": 28,
   "id": "bccfc250",
   "metadata": {},
   "outputs": [
    {
     "data": {
      "text/plain": [
       "[(0.1686495149172964, 'Sprint_40yd'),\n",
       " (0.1531355136723559, 'BMI'),\n",
       " (0.1449952937446715, 'Weight'),\n",
       " (0.09683164990825262, 'Bench_Press_Reps'),\n",
       " (0.09288218794760487, 'Broad_Jump'),\n",
       " (0.09259605627361793, 'Vertical_Jump'),\n",
       " (0.09176505657835668, 'Agility_3cone'),\n",
       " (0.0859485118152406, 'Shuttle'),\n",
       " (0.07319621514260344, 'Height')]"
      ]
     },
     "execution_count": 28,
     "metadata": {},
     "output_type": "execute_result"
    }
   ],
   "source": [
    "# List the features sorted in descending order by feature importance\n",
    "sorted(zip(rf_meaned.feature_importances_, X.columns), reverse=True)"
   ]
  },
  {
   "cell_type": "code",
   "execution_count": 29,
   "id": "5ee294ef",
   "metadata": {},
   "outputs": [],
   "source": [
    "# Now meaned by position group\n",
    "# Create dataframe for features\n",
    "X = nfl_df_meaned2.drop([\"Drafted\", \"Position_Type\"], axis=1)"
   ]
  },
  {
   "cell_type": "code",
   "execution_count": 30,
   "id": "bebd2bf3",
   "metadata": {},
   "outputs": [],
   "source": [
    "# Create target variable\n",
    "y = nfl_df_meaned2.Drafted.values"
   ]
  },
  {
   "cell_type": "code",
   "execution_count": 31,
   "id": "91a2ae17",
   "metadata": {},
   "outputs": [],
   "source": [
    "# Seperate into training and testing sets\n",
    "X_train,X_test,y_train,y_test = train_test_split(X,y,random_state=5)"
   ]
  },
  {
   "cell_type": "code",
   "execution_count": 32,
   "id": "39d0ac33",
   "metadata": {},
   "outputs": [],
   "source": [
    "# Creating a StandardScaler instance.\n",
    "scaler = StandardScaler()\n",
    "# Fitting the Standard Scaler with the training data.\n",
    "X_scaler = scaler.fit(X_train)\n",
    "\n",
    "# Scaling the data.\n",
    "X_train_scaled = X_scaler.transform(X_train)\n",
    "X_test_scaled = X_scaler.transform(X_test)"
   ]
  },
  {
   "cell_type": "code",
   "execution_count": 33,
   "id": "071cf3d3",
   "metadata": {},
   "outputs": [
    {
     "data": {
      "text/plain": [
       "BalancedRandomForestClassifier(n_estimators=128, random_state=10)"
      ]
     },
     "execution_count": 33,
     "metadata": {},
     "output_type": "execute_result"
    }
   ],
   "source": [
    "# Create and fit the model\n",
    "rf_meaned2 = BalancedRandomForestClassifier(n_estimators = 128, random_state = 10)\n",
    "rf_meaned2.fit(X_train_scaled, y_train)"
   ]
  },
  {
   "cell_type": "code",
   "execution_count": 34,
   "id": "8319e502",
   "metadata": {},
   "outputs": [],
   "source": [
    "# Use the model to predict\n",
    "y_pred = rf_meaned2.predict(X_test_scaled)"
   ]
  },
  {
   "cell_type": "code",
   "execution_count": 35,
   "id": "70395dd6",
   "metadata": {},
   "outputs": [
    {
     "data": {
      "text/plain": [
       "0.6367816091954023"
      ]
     },
     "execution_count": 35,
     "metadata": {},
     "output_type": "execute_result"
    }
   ],
   "source": [
    "# Calculated the balanced accuracy score\n",
    "accuracy_score(y_test, y_pred)"
   ]
  },
  {
   "cell_type": "code",
   "execution_count": 36,
   "id": "f91e69c6",
   "metadata": {},
   "outputs": [
    {
     "name": "stdout",
     "output_type": "stream",
     "text": [
      "[[204 125]\n",
      " [191 350]]\n"
     ]
    }
   ],
   "source": [
    "# Display the confusion matrix\n",
    "cm = confusion_matrix(y_test, y_pred)\n",
    "print(cm)"
   ]
  },
  {
   "cell_type": "code",
   "execution_count": 37,
   "id": "d4cdafb2",
   "metadata": {},
   "outputs": [
    {
     "name": "stdout",
     "output_type": "stream",
     "text": [
      "                   pre       rec       spe        f1       geo       iba       sup\n",
      "\n",
      "         No       0.52      0.62      0.65      0.56      0.63      0.40       329\n",
      "        Yes       0.74      0.65      0.62      0.69      0.63      0.40       541\n",
      "\n",
      "avg / total       0.65      0.64      0.63      0.64      0.63      0.40       870\n",
      "\n"
     ]
    }
   ],
   "source": [
    "# Print the imbalanced classification report\n",
    "print(classification_report_imbalanced(y_test, y_pred))"
   ]
  },
  {
   "cell_type": "code",
   "execution_count": 38,
   "id": "4316dbd4",
   "metadata": {},
   "outputs": [
    {
     "data": {
      "text/plain": [
       "[(0.1686495149172964, 'Sprint_40yd'),\n",
       " (0.1531355136723559, 'BMI'),\n",
       " (0.1449952937446715, 'Weight'),\n",
       " (0.09683164990825262, 'Bench_Press_Reps'),\n",
       " (0.09288218794760487, 'Broad_Jump'),\n",
       " (0.09259605627361793, 'Vertical_Jump'),\n",
       " (0.09176505657835668, 'Agility_3cone'),\n",
       " (0.0859485118152406, 'Shuttle'),\n",
       " (0.07319621514260344, 'Height')]"
      ]
     },
     "execution_count": 38,
     "metadata": {},
     "output_type": "execute_result"
    }
   ],
   "source": [
    "# List the features sorted in descending order by feature importance\n",
    "sorted(zip(rf_meaned.feature_importances_, X.columns), reverse=True)"
   ]
  },
  {
   "cell_type": "code",
   "execution_count": 39,
   "id": "e8281d62",
   "metadata": {},
   "outputs": [],
   "source": [
    "X = nfl_df_dropped.drop([\"Drafted\", \"Position_Type\"], axis=1)\n",
    "y = nfl_df_dropped.Drafted.values\n",
    "\n",
    "# Seperate into training and testing sets\n",
    "X_train,X_test,y_train,y_test = train_test_split(X,y,random_state=5)\n",
    "\n",
    "# Creating a StandardScaler instance.\n",
    "scaler = StandardScaler()\n",
    "# Fitting the Standard Scaler with the training data.\n",
    "X_scaler = scaler.fit(X_train)\n",
    "\n",
    "# Scaling the data.\n",
    "X_train_scaled = X_scaler.transform(X_train)\n",
    "X_test_scaled = X_scaler.transform(X_test)"
   ]
  },
  {
   "cell_type": "code",
   "execution_count": 40,
   "id": "1ec3ef17",
   "metadata": {},
   "outputs": [],
   "source": [
    "from imblearn.ensemble import EasyEnsembleClassifier\n",
    "boost_null = EasyEnsembleClassifier(n_estimators=64,random_state=10)\n",
    "boost_null.fit(X_train_scaled,y_train)\n",
    "y_pred = boost_null.predict(X_test_scaled)"
   ]
  },
  {
   "cell_type": "code",
   "execution_count": 41,
   "id": "87c8ec96",
   "metadata": {},
   "outputs": [
    {
     "data": {
      "text/plain": [
       "0.6535796766743649"
      ]
     },
     "execution_count": 41,
     "metadata": {},
     "output_type": "execute_result"
    }
   ],
   "source": [
    "# Calculate the balanced accuracy score\n",
    "accuracy_score(y_test, y_pred)"
   ]
  },
  {
   "cell_type": "code",
   "execution_count": 42,
   "id": "b88d3f49",
   "metadata": {},
   "outputs": [],
   "source": [
    "# Try simple logistic regression\n",
    "from sklearn.linear_model import LogisticRegression\n",
    "classifier = LogisticRegression(solver='lbfgs',\n",
    "   max_iter=200,\n",
    "   random_state=10)\n",
    "classifier.fit(X_train_scaled,y_train)\n",
    "y_pred = classifier.predict(X_test_scaled)"
   ]
  },
  {
   "cell_type": "code",
   "execution_count": 43,
   "id": "5f8fddaa",
   "metadata": {},
   "outputs": [
    {
     "data": {
      "text/plain": [
       "0.6697459584295612"
      ]
     },
     "execution_count": 43,
     "metadata": {},
     "output_type": "execute_result"
    }
   ],
   "source": [
    "# Calculate the balanced accuracy score\n",
    "accuracy_score(y_test, y_pred)"
   ]
  },
  {
   "cell_type": "code",
   "execution_count": 44,
   "id": "77ed6ec4",
   "metadata": {},
   "outputs": [
    {
     "name": "stderr",
     "output_type": "stream",
     "text": [
      "C:\\Users\\bhill\\anaconda3\\envs\\mlenv\\lib\\site-packages\\sklearn\\utils\\deprecation.py:87: FutureWarning: Function get_feature_names is deprecated; get_feature_names is deprecated in 1.0 and will be removed in 1.2. Please use get_feature_names_out instead.\n",
      "  warnings.warn(msg, category=FutureWarning)\n"
     ]
    },
    {
     "data": {
      "text/html": [
       "<div>\n",
       "<style scoped>\n",
       "    .dataframe tbody tr th:only-of-type {\n",
       "        vertical-align: middle;\n",
       "    }\n",
       "\n",
       "    .dataframe tbody tr th {\n",
       "        vertical-align: top;\n",
       "    }\n",
       "\n",
       "    .dataframe thead th {\n",
       "        text-align: right;\n",
       "    }\n",
       "</style>\n",
       "<table border=\"1\" class=\"dataframe\">\n",
       "  <thead>\n",
       "    <tr style=\"text-align: right;\">\n",
       "      <th></th>\n",
       "      <th>Position_Type_backs_receivers</th>\n",
       "      <th>Position_Type_defensive_back</th>\n",
       "      <th>Position_Type_defensive_lineman</th>\n",
       "      <th>Position_Type_kicking_specialist</th>\n",
       "      <th>Position_Type_line_backer</th>\n",
       "      <th>Position_Type_offensive_lineman</th>\n",
       "      <th>Position_Type_other_special</th>\n",
       "    </tr>\n",
       "  </thead>\n",
       "  <tbody>\n",
       "    <tr>\n",
       "      <th>0</th>\n",
       "      <td>1.0</td>\n",
       "      <td>0.0</td>\n",
       "      <td>0.0</td>\n",
       "      <td>0.0</td>\n",
       "      <td>0.0</td>\n",
       "      <td>0.0</td>\n",
       "      <td>0.0</td>\n",
       "    </tr>\n",
       "    <tr>\n",
       "      <th>1</th>\n",
       "      <td>0.0</td>\n",
       "      <td>0.0</td>\n",
       "      <td>1.0</td>\n",
       "      <td>0.0</td>\n",
       "      <td>0.0</td>\n",
       "      <td>0.0</td>\n",
       "      <td>0.0</td>\n",
       "    </tr>\n",
       "    <tr>\n",
       "      <th>2</th>\n",
       "      <td>0.0</td>\n",
       "      <td>0.0</td>\n",
       "      <td>0.0</td>\n",
       "      <td>0.0</td>\n",
       "      <td>0.0</td>\n",
       "      <td>1.0</td>\n",
       "      <td>0.0</td>\n",
       "    </tr>\n",
       "    <tr>\n",
       "      <th>3</th>\n",
       "      <td>0.0</td>\n",
       "      <td>1.0</td>\n",
       "      <td>0.0</td>\n",
       "      <td>0.0</td>\n",
       "      <td>0.0</td>\n",
       "      <td>0.0</td>\n",
       "      <td>0.0</td>\n",
       "    </tr>\n",
       "    <tr>\n",
       "      <th>4</th>\n",
       "      <td>0.0</td>\n",
       "      <td>0.0</td>\n",
       "      <td>0.0</td>\n",
       "      <td>0.0</td>\n",
       "      <td>1.0</td>\n",
       "      <td>0.0</td>\n",
       "      <td>0.0</td>\n",
       "    </tr>\n",
       "  </tbody>\n",
       "</table>\n",
       "</div>"
      ],
      "text/plain": [
       "   Position_Type_backs_receivers  Position_Type_defensive_back  \\\n",
       "0                            1.0                           0.0   \n",
       "1                            0.0                           0.0   \n",
       "2                            0.0                           0.0   \n",
       "3                            0.0                           1.0   \n",
       "4                            0.0                           0.0   \n",
       "\n",
       "   Position_Type_defensive_lineman  Position_Type_kicking_specialist  \\\n",
       "0                              0.0                               0.0   \n",
       "1                              1.0                               0.0   \n",
       "2                              0.0                               0.0   \n",
       "3                              0.0                               0.0   \n",
       "4                              0.0                               0.0   \n",
       "\n",
       "   Position_Type_line_backer  Position_Type_offensive_lineman  \\\n",
       "0                        0.0                              0.0   \n",
       "1                        0.0                              0.0   \n",
       "2                        0.0                              1.0   \n",
       "3                        0.0                              0.0   \n",
       "4                        1.0                              0.0   \n",
       "\n",
       "   Position_Type_other_special  \n",
       "0                          0.0  \n",
       "1                          0.0  \n",
       "2                          0.0  \n",
       "3                          0.0  \n",
       "4                          0.0  "
      ]
     },
     "execution_count": 44,
     "metadata": {},
     "output_type": "execute_result"
    }
   ],
   "source": [
    "# Try encoding the position type\n",
    "# Create the OneHotEncoder instance\n",
    "from sklearn.preprocessing import OneHotEncoder\n",
    "enc = OneHotEncoder(sparse=False)\n",
    "\n",
    "# Fit the encoder and produce encoded DataFrame\n",
    "nfl_df_encoded = pd.DataFrame(enc.fit_transform(nfl_df.Position_Type.values.reshape(-1,1)))\n",
    "\n",
    "# Rename encoded columns\n",
    "nfl_df_encoded.columns = enc.get_feature_names(['Position_Type'])\n",
    "nfl_df_encoded.head()"
   ]
  },
  {
   "cell_type": "code",
   "execution_count": 45,
   "id": "7e8ca273",
   "metadata": {},
   "outputs": [
    {
     "name": "stderr",
     "output_type": "stream",
     "text": [
      "C:\\Users\\bhill\\anaconda3\\envs\\mlenv\\lib\\site-packages\\ipykernel_launcher.py:2: FutureWarning: In a future version of pandas all arguments of DataFrame.drop except for the argument 'labels' will be keyword-only\n",
      "  \n"
     ]
    },
    {
     "data": {
      "text/html": [
       "<div>\n",
       "<style scoped>\n",
       "    .dataframe tbody tr th:only-of-type {\n",
       "        vertical-align: middle;\n",
       "    }\n",
       "\n",
       "    .dataframe tbody tr th {\n",
       "        vertical-align: top;\n",
       "    }\n",
       "\n",
       "    .dataframe thead th {\n",
       "        text-align: right;\n",
       "    }\n",
       "</style>\n",
       "<table border=\"1\" class=\"dataframe\">\n",
       "  <thead>\n",
       "    <tr style=\"text-align: right;\">\n",
       "      <th></th>\n",
       "      <th>Height</th>\n",
       "      <th>Weight</th>\n",
       "      <th>Sprint_40yd</th>\n",
       "      <th>Vertical_Jump</th>\n",
       "      <th>Bench_Press_Reps</th>\n",
       "      <th>Broad_Jump</th>\n",
       "      <th>Agility_3cone</th>\n",
       "      <th>Shuttle</th>\n",
       "      <th>BMI</th>\n",
       "      <th>Drafted</th>\n",
       "      <th>Position_Type_backs_receivers</th>\n",
       "      <th>Position_Type_defensive_back</th>\n",
       "      <th>Position_Type_defensive_lineman</th>\n",
       "      <th>Position_Type_kicking_specialist</th>\n",
       "      <th>Position_Type_line_backer</th>\n",
       "      <th>Position_Type_offensive_lineman</th>\n",
       "      <th>Position_Type_other_special</th>\n",
       "    </tr>\n",
       "  </thead>\n",
       "  <tbody>\n",
       "    <tr>\n",
       "      <th>0</th>\n",
       "      <td>1.8542</td>\n",
       "      <td>106.594207</td>\n",
       "      <td>4.38</td>\n",
       "      <td>85.09</td>\n",
       "      <td>25.0</td>\n",
       "      <td>325.12</td>\n",
       "      <td>NaN</td>\n",
       "      <td>NaN</td>\n",
       "      <td>31.004194</td>\n",
       "      <td>Yes</td>\n",
       "      <td>1.0</td>\n",
       "      <td>0.0</td>\n",
       "      <td>0.0</td>\n",
       "      <td>0.0</td>\n",
       "      <td>0.0</td>\n",
       "      <td>0.0</td>\n",
       "      <td>0.0</td>\n",
       "    </tr>\n",
       "    <tr>\n",
       "      <th>1</th>\n",
       "      <td>1.8796</td>\n",
       "      <td>118.387609</td>\n",
       "      <td>4.84</td>\n",
       "      <td>83.82</td>\n",
       "      <td>27.0</td>\n",
       "      <td>292.10</td>\n",
       "      <td>7.38</td>\n",
       "      <td>4.45</td>\n",
       "      <td>33.510073</td>\n",
       "      <td>Yes</td>\n",
       "      <td>0.0</td>\n",
       "      <td>0.0</td>\n",
       "      <td>1.0</td>\n",
       "      <td>0.0</td>\n",
       "      <td>0.0</td>\n",
       "      <td>0.0</td>\n",
       "      <td>0.0</td>\n",
       "    </tr>\n",
       "    <tr>\n",
       "      <th>2</th>\n",
       "      <td>2.0066</td>\n",
       "      <td>165.107623</td>\n",
       "      <td>5.50</td>\n",
       "      <td>NaN</td>\n",
       "      <td>21.0</td>\n",
       "      <td>NaN</td>\n",
       "      <td>NaN</td>\n",
       "      <td>NaN</td>\n",
       "      <td>41.005821</td>\n",
       "      <td>Yes</td>\n",
       "      <td>0.0</td>\n",
       "      <td>0.0</td>\n",
       "      <td>0.0</td>\n",
       "      <td>0.0</td>\n",
       "      <td>0.0</td>\n",
       "      <td>1.0</td>\n",
       "      <td>0.0</td>\n",
       "    </tr>\n",
       "    <tr>\n",
       "      <th>3</th>\n",
       "      <td>1.8034</td>\n",
       "      <td>92.079251</td>\n",
       "      <td>4.49</td>\n",
       "      <td>93.98</td>\n",
       "      <td>15.0</td>\n",
       "      <td>304.80</td>\n",
       "      <td>7.09</td>\n",
       "      <td>4.23</td>\n",
       "      <td>28.312463</td>\n",
       "      <td>Yes</td>\n",
       "      <td>0.0</td>\n",
       "      <td>1.0</td>\n",
       "      <td>0.0</td>\n",
       "      <td>0.0</td>\n",
       "      <td>0.0</td>\n",
       "      <td>0.0</td>\n",
       "      <td>0.0</td>\n",
       "    </tr>\n",
       "    <tr>\n",
       "      <th>4</th>\n",
       "      <td>1.8796</td>\n",
       "      <td>110.676538</td>\n",
       "      <td>4.76</td>\n",
       "      <td>92.71</td>\n",
       "      <td>26.0</td>\n",
       "      <td>304.80</td>\n",
       "      <td>7.10</td>\n",
       "      <td>4.40</td>\n",
       "      <td>31.327425</td>\n",
       "      <td>Yes</td>\n",
       "      <td>0.0</td>\n",
       "      <td>0.0</td>\n",
       "      <td>0.0</td>\n",
       "      <td>0.0</td>\n",
       "      <td>1.0</td>\n",
       "      <td>0.0</td>\n",
       "      <td>0.0</td>\n",
       "    </tr>\n",
       "  </tbody>\n",
       "</table>\n",
       "</div>"
      ],
      "text/plain": [
       "   Height      Weight  Sprint_40yd  Vertical_Jump  Bench_Press_Reps  \\\n",
       "0  1.8542  106.594207         4.38          85.09              25.0   \n",
       "1  1.8796  118.387609         4.84          83.82              27.0   \n",
       "2  2.0066  165.107623         5.50            NaN              21.0   \n",
       "3  1.8034   92.079251         4.49          93.98              15.0   \n",
       "4  1.8796  110.676538         4.76          92.71              26.0   \n",
       "\n",
       "   Broad_Jump  Agility_3cone  Shuttle        BMI Drafted  \\\n",
       "0      325.12            NaN      NaN  31.004194     Yes   \n",
       "1      292.10           7.38     4.45  33.510073     Yes   \n",
       "2         NaN            NaN      NaN  41.005821     Yes   \n",
       "3      304.80           7.09     4.23  28.312463     Yes   \n",
       "4      304.80           7.10     4.40  31.327425     Yes   \n",
       "\n",
       "   Position_Type_backs_receivers  Position_Type_defensive_back  \\\n",
       "0                            1.0                           0.0   \n",
       "1                            0.0                           0.0   \n",
       "2                            0.0                           0.0   \n",
       "3                            0.0                           1.0   \n",
       "4                            0.0                           0.0   \n",
       "\n",
       "   Position_Type_defensive_lineman  Position_Type_kicking_specialist  \\\n",
       "0                              0.0                               0.0   \n",
       "1                              1.0                               0.0   \n",
       "2                              0.0                               0.0   \n",
       "3                              0.0                               0.0   \n",
       "4                              0.0                               0.0   \n",
       "\n",
       "   Position_Type_line_backer  Position_Type_offensive_lineman  \\\n",
       "0                        0.0                              0.0   \n",
       "1                        0.0                              0.0   \n",
       "2                        0.0                              1.0   \n",
       "3                        0.0                              0.0   \n",
       "4                        1.0                              0.0   \n",
       "\n",
       "   Position_Type_other_special  \n",
       "0                          0.0  \n",
       "1                          0.0  \n",
       "2                          0.0  \n",
       "3                          0.0  \n",
       "4                          0.0  "
      ]
     },
     "execution_count": 45,
     "metadata": {},
     "output_type": "execute_result"
    }
   ],
   "source": [
    "# Merge the two DataFrames together and drop the Country column\n",
    "nfl_df = nfl_df.merge(nfl_df_encoded,left_index=True,right_index=True).drop(\"Position_Type\",1)\n",
    "nfl_df.head()"
   ]
  },
  {
   "cell_type": "code",
   "execution_count": 46,
   "id": "d0abab6a",
   "metadata": {},
   "outputs": [
    {
     "data": {
      "text/html": [
       "<div>\n",
       "<style scoped>\n",
       "    .dataframe tbody tr th:only-of-type {\n",
       "        vertical-align: middle;\n",
       "    }\n",
       "\n",
       "    .dataframe tbody tr th {\n",
       "        vertical-align: top;\n",
       "    }\n",
       "\n",
       "    .dataframe thead th {\n",
       "        text-align: right;\n",
       "    }\n",
       "</style>\n",
       "<table border=\"1\" class=\"dataframe\">\n",
       "  <thead>\n",
       "    <tr style=\"text-align: right;\">\n",
       "      <th></th>\n",
       "      <th>Height</th>\n",
       "      <th>Weight</th>\n",
       "      <th>Sprint_40yd</th>\n",
       "      <th>Vertical_Jump</th>\n",
       "      <th>Bench_Press_Reps</th>\n",
       "      <th>Broad_Jump</th>\n",
       "      <th>Agility_3cone</th>\n",
       "      <th>Shuttle</th>\n",
       "      <th>BMI</th>\n",
       "      <th>Drafted</th>\n",
       "      <th>Position_Type_backs_receivers</th>\n",
       "      <th>Position_Type_defensive_back</th>\n",
       "      <th>Position_Type_defensive_lineman</th>\n",
       "      <th>Position_Type_kicking_specialist</th>\n",
       "      <th>Position_Type_line_backer</th>\n",
       "      <th>Position_Type_offensive_lineman</th>\n",
       "      <th>Position_Type_other_special</th>\n",
       "    </tr>\n",
       "  </thead>\n",
       "  <tbody>\n",
       "    <tr>\n",
       "      <th>1</th>\n",
       "      <td>1.8796</td>\n",
       "      <td>118.387609</td>\n",
       "      <td>4.84</td>\n",
       "      <td>83.82</td>\n",
       "      <td>27.0</td>\n",
       "      <td>292.10</td>\n",
       "      <td>7.38</td>\n",
       "      <td>4.45</td>\n",
       "      <td>33.510073</td>\n",
       "      <td>Yes</td>\n",
       "      <td>0.0</td>\n",
       "      <td>0.0</td>\n",
       "      <td>1.0</td>\n",
       "      <td>0.0</td>\n",
       "      <td>0.0</td>\n",
       "      <td>0.0</td>\n",
       "      <td>0.0</td>\n",
       "    </tr>\n",
       "    <tr>\n",
       "      <th>3</th>\n",
       "      <td>1.8034</td>\n",
       "      <td>92.079251</td>\n",
       "      <td>4.49</td>\n",
       "      <td>93.98</td>\n",
       "      <td>15.0</td>\n",
       "      <td>304.80</td>\n",
       "      <td>7.09</td>\n",
       "      <td>4.23</td>\n",
       "      <td>28.312463</td>\n",
       "      <td>Yes</td>\n",
       "      <td>0.0</td>\n",
       "      <td>1.0</td>\n",
       "      <td>0.0</td>\n",
       "      <td>0.0</td>\n",
       "      <td>0.0</td>\n",
       "      <td>0.0</td>\n",
       "      <td>0.0</td>\n",
       "    </tr>\n",
       "    <tr>\n",
       "      <th>4</th>\n",
       "      <td>1.8796</td>\n",
       "      <td>110.676538</td>\n",
       "      <td>4.76</td>\n",
       "      <td>92.71</td>\n",
       "      <td>26.0</td>\n",
       "      <td>304.80</td>\n",
       "      <td>7.10</td>\n",
       "      <td>4.40</td>\n",
       "      <td>31.327425</td>\n",
       "      <td>Yes</td>\n",
       "      <td>0.0</td>\n",
       "      <td>0.0</td>\n",
       "      <td>0.0</td>\n",
       "      <td>0.0</td>\n",
       "      <td>1.0</td>\n",
       "      <td>0.0</td>\n",
       "      <td>0.0</td>\n",
       "    </tr>\n",
       "    <tr>\n",
       "      <th>7</th>\n",
       "      <td>2.0320</td>\n",
       "      <td>140.160042</td>\n",
       "      <td>5.32</td>\n",
       "      <td>55.88</td>\n",
       "      <td>19.0</td>\n",
       "      <td>238.76</td>\n",
       "      <td>7.87</td>\n",
       "      <td>4.88</td>\n",
       "      <td>33.945078</td>\n",
       "      <td>Yes</td>\n",
       "      <td>0.0</td>\n",
       "      <td>0.0</td>\n",
       "      <td>0.0</td>\n",
       "      <td>0.0</td>\n",
       "      <td>0.0</td>\n",
       "      <td>1.0</td>\n",
       "      <td>0.0</td>\n",
       "    </tr>\n",
       "    <tr>\n",
       "      <th>8</th>\n",
       "      <td>1.8796</td>\n",
       "      <td>120.655570</td>\n",
       "      <td>4.53</td>\n",
       "      <td>88.90</td>\n",
       "      <td>28.0</td>\n",
       "      <td>304.80</td>\n",
       "      <td>7.46</td>\n",
       "      <td>4.43</td>\n",
       "      <td>34.152029</td>\n",
       "      <td>Yes</td>\n",
       "      <td>0.0</td>\n",
       "      <td>0.0</td>\n",
       "      <td>1.0</td>\n",
       "      <td>0.0</td>\n",
       "      <td>0.0</td>\n",
       "      <td>0.0</td>\n",
       "      <td>0.0</td>\n",
       "    </tr>\n",
       "  </tbody>\n",
       "</table>\n",
       "</div>"
      ],
      "text/plain": [
       "   Height      Weight  Sprint_40yd  Vertical_Jump  Bench_Press_Reps  \\\n",
       "1  1.8796  118.387609         4.84          83.82              27.0   \n",
       "3  1.8034   92.079251         4.49          93.98              15.0   \n",
       "4  1.8796  110.676538         4.76          92.71              26.0   \n",
       "7  2.0320  140.160042         5.32          55.88              19.0   \n",
       "8  1.8796  120.655570         4.53          88.90              28.0   \n",
       "\n",
       "   Broad_Jump  Agility_3cone  Shuttle        BMI Drafted  \\\n",
       "1      292.10           7.38     4.45  33.510073     Yes   \n",
       "3      304.80           7.09     4.23  28.312463     Yes   \n",
       "4      304.80           7.10     4.40  31.327425     Yes   \n",
       "7      238.76           7.87     4.88  33.945078     Yes   \n",
       "8      304.80           7.46     4.43  34.152029     Yes   \n",
       "\n",
       "   Position_Type_backs_receivers  Position_Type_defensive_back  \\\n",
       "1                            0.0                           0.0   \n",
       "3                            0.0                           1.0   \n",
       "4                            0.0                           0.0   \n",
       "7                            0.0                           0.0   \n",
       "8                            0.0                           0.0   \n",
       "\n",
       "   Position_Type_defensive_lineman  Position_Type_kicking_specialist  \\\n",
       "1                              1.0                               0.0   \n",
       "3                              0.0                               0.0   \n",
       "4                              0.0                               0.0   \n",
       "7                              0.0                               0.0   \n",
       "8                              1.0                               0.0   \n",
       "\n",
       "   Position_Type_line_backer  Position_Type_offensive_lineman  \\\n",
       "1                        0.0                              0.0   \n",
       "3                        0.0                              0.0   \n",
       "4                        1.0                              0.0   \n",
       "7                        0.0                              1.0   \n",
       "8                        0.0                              0.0   \n",
       "\n",
       "   Position_Type_other_special  \n",
       "1                          0.0  \n",
       "3                          0.0  \n",
       "4                          0.0  \n",
       "7                          0.0  \n",
       "8                          0.0  "
      ]
     },
     "execution_count": 46,
     "metadata": {},
     "output_type": "execute_result"
    }
   ],
   "source": [
    "# Drop all other null values and see that we have 1731 data points remaining\n",
    "nfl_df_encoded = nfl_df.dropna()\n",
    "nfl_df_encoded.head()"
   ]
  },
  {
   "cell_type": "code",
   "execution_count": 51,
   "id": "4c89a67f",
   "metadata": {},
   "outputs": [],
   "source": [
    "# Create dataframe for features\n",
    "X = nfl_df_encoded.drop([\"Drafted\"], axis=1)\n",
    "\n",
    "# Create target variable\n",
    "y = nfl_df_encoded.Drafted.values\n",
    "\n",
    "# Seperate into training and testing sets\n",
    "X_train,X_test,y_train,y_test = train_test_split(X,y,random_state=5)\n",
    "\n",
    "# Creating a StandardScaler instance.\n",
    "scaler = StandardScaler()\n",
    "# Fitting the Standard Scaler with the training data.\n",
    "X_scaler = scaler.fit(X_train)\n",
    "\n",
    "# Scaling the data.\n",
    "X_train_scaled = X_scaler.transform(X_train)\n",
    "X_test_scaled = X_scaler.transform(X_test)"
   ]
  },
  {
   "cell_type": "code",
   "execution_count": 48,
   "id": "87f8853a",
   "metadata": {},
   "outputs": [
    {
     "data": {
      "text/plain": [
       "0.6558891454965358"
      ]
     },
     "execution_count": 48,
     "metadata": {},
     "output_type": "execute_result"
    }
   ],
   "source": [
    "# Create and fit the model\n",
    "rf_encoded = BalancedRandomForestClassifier(n_estimators = 128, random_state = 10)\n",
    "rf_encoded.fit(X_train_scaled, y_train)\n",
    "\n",
    "# Use the model to predict\n",
    "y_pred = rf_encoded.predict(X_test_scaled)\n",
    "\n",
    "# Calculated the balanced accuracy score\n",
    "accuracy_score(y_test, y_pred)"
   ]
  },
  {
   "cell_type": "code",
   "execution_count": 49,
   "id": "172a6f31",
   "metadata": {},
   "outputs": [
    {
     "data": {
      "text/plain": [
       "LogisticRegression(random_state=1)"
      ]
     },
     "execution_count": 49,
     "metadata": {},
     "output_type": "execute_result"
    }
   ],
   "source": [
    "# Try resampling model\n",
    "from imblearn.combine import SMOTEENN\n",
    "smote_enn = SMOTEENN(random_state=10)\n",
    "X_resampled, y_resampled = smote_enn.fit_resample(X_train_scaled, y_train)\n",
    "smoteen_model = LogisticRegression(solver='lbfgs', random_state=1)\n",
    "smoteen_model.fit(X_resampled, y_resampled)"
   ]
  },
  {
   "cell_type": "code",
   "execution_count": 50,
   "id": "b9b24762",
   "metadata": {},
   "outputs": [
    {
     "name": "stdout",
     "output_type": "stream",
     "text": [
      "0.5635103926096998\n"
     ]
    }
   ],
   "source": [
    "y_pred = smoteen_model.predict(X_test_scaled)\n",
    "print(accuracy_score(y_test, y_pred))"
   ]
  },
  {
   "cell_type": "code",
   "execution_count": 52,
   "id": "7b2851e6",
   "metadata": {},
   "outputs": [],
   "source": [
    "# Try simple logistic regression with encoded Position_Type\n",
    "from sklearn.linear_model import LogisticRegression\n",
    "classifier = LogisticRegression(solver='lbfgs',\n",
    "   max_iter=200,\n",
    "   random_state=10)\n",
    "classifier.fit(X_train_scaled,y_train)\n",
    "y_pred = classifier.predict(X_test_scaled)"
   ]
  },
  {
   "cell_type": "code",
   "execution_count": 53,
   "id": "38299090",
   "metadata": {},
   "outputs": [
    {
     "name": "stdout",
     "output_type": "stream",
     "text": [
      "0.674364896073903\n"
     ]
    }
   ],
   "source": [
    "print(accuracy_score(y_test, y_pred))"
   ]
  },
  {
   "cell_type": "code",
   "execution_count": null,
   "id": "faf41beb",
   "metadata": {},
   "outputs": [],
   "source": []
  }
 ],
 "metadata": {
  "kernelspec": {
   "display_name": "mlenv",
   "language": "python",
   "name": "mlenv"
  },
  "language_info": {
   "codemirror_mode": {
    "name": "ipython",
    "version": 3
   },
   "file_extension": ".py",
   "mimetype": "text/x-python",
   "name": "python",
   "nbconvert_exporter": "python",
   "pygments_lexer": "ipython3",
   "version": "3.7.13"
  }
 },
 "nbformat": 4,
 "nbformat_minor": 5
}
